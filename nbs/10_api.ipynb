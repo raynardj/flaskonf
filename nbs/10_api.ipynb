{
 "cells": [
  {
   "cell_type": "markdown",
   "metadata": {},
   "source": [
    "# API Core\n",
    "> core part of API\n",
    "\n",
    "> Configuration based API"
   ]
  },
  {
   "cell_type": "code",
   "execution_count": 1,
   "metadata": {},
   "outputs": [],
   "source": [
    "# default_exp api"
   ]
  },
  {
   "cell_type": "code",
   "execution_count": 2,
   "metadata": {},
   "outputs": [],
   "source": [
    "# export\n",
    "from flask import Flask, send_file,request\n",
    "from pathlib import Path\n",
    "import json, os, logging\n",
    "from typing import Callable, List, Dict\n",
    "import traceback\n",
    "from jinja2 import Template\n",
    "from datetime import datetime"
   ]
  },
  {
   "cell_type": "code",
   "execution_count": 3,
   "metadata": {},
   "outputs": [],
   "source": [
    "logger = logging.getLogger()\n",
    "logger.setLevel(logging.DEBUG)"
   ]
  },
  {
   "cell_type": "code",
   "execution_count": 4,
   "metadata": {},
   "outputs": [],
   "source": [
    "app = Flask(\"test_flaskon\")"
   ]
  },
  {
   "cell_type": "markdown",
   "metadata": {},
   "source": [
    "## Helper Functions"
   ]
  },
  {
   "cell_type": "code",
   "execution_count": 5,
   "metadata": {},
   "outputs": [],
   "source": [
    "# export\n",
    "\n",
    "def open_json(path: Path):\n",
    "    with open(path, \"r\") as f:\n",
    "        return json.loads(f.read())\n",
    "    \n",
    "def open_file(path: Path):\n",
    "    with open(path, \"r\") as f:\n",
    "        return f.read()\n",
    "\n",
    "def mkdir(path: Path):\n",
    "    path.mkdir(exist_ok=True, parents=True)\n",
    "\n",
    "def clean_up_string(x):\n",
    "    x2 = x.lower().replace(\"/\",\" \").strip().replace(\" \",\"_\")\n",
    "    while \"__\" in x:\n",
    "        x2 = x2.replace(\"__\", \"_\")\n",
    "    return x2\n",
    "\n",
    "def error_printer(e: Exception):\n",
    "    logging.error(traceback.format_exc())\n",
    "    return dict(error_msg=str(e))\n",
    "\n",
    "def time_str():\n",
    "    return datetime.now().strftime(\"%y%m%d_%H%M%S\")"
   ]
  },
  {
   "cell_type": "markdown",
   "metadata": {},
   "source": [
    "## Directory management"
   ]
  },
  {
   "cell_type": "code",
   "execution_count": 6,
   "metadata": {},
   "outputs": [],
   "source": [
    "# export\n",
    "class Directories:\n",
    "    def __init__(self):\n",
    "        self.allocate()\n",
    "        \n",
    "    def allocate(self):\n",
    "        self.root = self.find_root()\n",
    "        \n",
    "    def find_root(self):\n",
    "        import flaskonf\n",
    "        return Path(flaskonf.__file__).parent\n",
    "    \n",
    "    @property\n",
    "    def static_dir(self):\n",
    "        return self.root/\"static\"\n",
    "    \n",
    "    @property\n",
    "    def templates_dir(self):\n",
    "        return self.root/\"templates\"\n",
    "    \n",
    "    def open_templates(self, relative_temp_path):\n",
    "        with open(self.templates_dir/relative_temp_path, \"r\") as f:\n",
    "            return Template(f.read())\n",
    "        \n",
    "    def render_templates(self, template, **kwargs):\n",
    "        return self.open_templates(template).render(**kwargs)\n",
    "    \n",
    "    def header_files(self):\n",
    "        return [\n",
    "            {\"type\":\"script\", \"path\": \"js/jquery.min.js\"},\n",
    "            {\"type\":\"script\", \"path\": \"js/bootstrap.min.js\"},\n",
    "            {\"type\":\"css\", \"path\": \"css/bootstrap.css\"},\n",
    "        ]\n",
    "        \n",
    "    def __repr__(self):\n",
    "        return f\"\"\"\n",
    "        - root:{self.root}\n",
    "            - static:{self.static_dir}\n",
    "            - static:{self.templates_dir}\n",
    "        \"\"\"\n",
    "    \n",
    "    def ls_recursively(self, path):\n",
    "        options = os.listdir(path)\n",
    "        result = []\n",
    "        for option in options:\n",
    "            if (Path(path)/option).is_dir():\n",
    "                result+= self.ls_recursively(Path(path)/option)\n",
    "            else:\n",
    "                result.append(str(Path(path)/option))\n",
    "        return result"
   ]
  },
  {
   "cell_type": "markdown",
   "metadata": {},
   "source": [
    "## Flaskonf coref components"
   ]
  },
  {
   "cell_type": "code",
   "execution_count": 19,
   "metadata": {},
   "outputs": [],
   "source": [
    "# export\n",
    "class FlaskonfAPI(Flask, Directories):\n",
    "    \"\"\"\n",
    "    # create an flask app\n",
    "    app = FlaskonAPI(\"alpha_api\")\n",
    "    \n",
    "    # assign address for directories full of json\n",
    "    app.build_on_config(\n",
    "        confs_dir=\"../tests/confs/\",\n",
    "        examples_dir=\"../tests/examples/\"\n",
    "        )\n",
    "        \n",
    "    # create an api blueprint\n",
    "    # with such blueprint, we can have an api for each configuration file\n",
    "    @app.conf_route(\"/guide/\")\n",
    "    def build_city_guide(conf_file: str, conf: Dict):\n",
    "        logging.info(f\"{conf}\")\n",
    "        def guide_api(data: Dict):\n",
    "            user = data[\"user\"]\n",
    "            return {\"city_data\": conf, \"user\": user}\n",
    "        return guide_api\n",
    "        \n",
    "    # run api\n",
    "    app.run('0.0.0.0', port=1234)\n",
    "    \"\"\"\n",
    "    def set_dicrectory(\n",
    "        app: Flask,\n",
    "        confs_dir: Path=None,\n",
    "        examples_dir: Path=None\n",
    "    ) -> Flask:\n",
    "        if confs_dir == None:\n",
    "            confs_dir =Path(app.static_folder)/\"confs\"\n",
    "            logging.warning(\n",
    "                f\"configuration directory not found, set to {confs_dir}\")\n",
    "        else:\n",
    "            confs_dir = Path(confs_dir)\n",
    "            \n",
    "        if examples_dir == None:\n",
    "            examples_dir =Path(app.static_folder)/\"examples\"\n",
    "            logging.warning(\n",
    "                f\"example directory not found, set to {examples_dir}\")\n",
    "        else:\n",
    "            examples_dir = Path(examples_dir)\n",
    "        app.confs_dir = confs_dir\n",
    "        app.examples_dir = examples_dir\n",
    "        \n",
    "\n",
    "    def api_get_creater(app, route, name, data):\n",
    "        def wrapper():\n",
    "            data.update({\"examples\":app.get_examples(name)})\n",
    "            return app.render_templates(\"get_page.html\", **data)\n",
    "        wrapper.__name__ = f\"{name}_get\"\n",
    "        app.route(route, methods=[\"GET\",])(wrapper)\n",
    "        \n",
    "        \n",
    "    def default_build(app, f):\n",
    "        def builder(conf_file, conf):\n",
    "            return f\n",
    "        return builder\n",
    "        \n",
    "    def conf_route(\n",
    "        app,\n",
    "        route,\n",
    "        filter_func: Callable = None,\n",
    "        nobuild = False,\n",
    "    ) -> Callable:\n",
    "        \"\"\"\n",
    "        A decorator that will create new blueprint\n",
    "        \"\"\"\n",
    "        def decorator(f):\n",
    "            app.blueprint.append(dict(\n",
    "                route=route,\n",
    "                build_func = f if nobuild == False else app.default_build(f),\n",
    "                filter_func = filter_func,\n",
    "                name = f.__name__\n",
    "            ))\n",
    "            return f\n",
    "        return decorator\n",
    "\n",
    "\n",
    "    def create_api(\n",
    "        app: Flask,\n",
    "        route: str,\n",
    "        name: str,\n",
    "        conf_file:str = None,\n",
    "        conf:dict = None,\n",
    "        methods=[\"POST\"],\n",
    "        error_handler=error_printer,\n",
    "        get_template_data=dict()):\n",
    "        \"\"\"\n",
    "        @app.create_api(route=\"/calculator/sqrt/\", name=\"get_root\")\n",
    "        def get_root(data):\n",
    "            num = data[\"input_number\"]\n",
    "            return dict(input_number=num, root_result=(num**.5))\n",
    "        \"\"\"\n",
    "        def deco(f):\n",
    "            def wrapper():\n",
    "                \"\"\"\n",
    "                A wrapper with error handler\n",
    "                \"\"\"\n",
    "                try:\n",
    "                    if request.data:\n",
    "                        data = json.loads(request.data)\n",
    "                    else:\n",
    "                        data = dict()\n",
    "                    inputs = dict(\n",
    "                        data = data,\n",
    "                        conf_file = conf_file,\n",
    "                        conf = conf\n",
    "                    )\n",
    "                    result = f(inputs)\n",
    "                    return result, 200\n",
    "                except Exception as e:\n",
    "                    return error_handler(e), 500\n",
    "                return result\n",
    "            wrapper.__name__ = name\n",
    "            app.route(route, methods=[\"POST\"])(wrapper)\n",
    "            get_template_data.update({\n",
    "                \"page_title\":f\"API {name}\"\n",
    "            })\n",
    "            app.api_get_creater(route, f\"{name}\", get_template_data)\n",
    "            return wrapper\n",
    "        return deco\n",
    "    \n",
    "    \n",
    "    def build_blueprint(app, blueprint):\n",
    "        \"\"\"\n",
    "        blueprint: dict, contains the following\n",
    "            - filter_func: if we want to build the API\n",
    "            - build_func: the actual API function to build\n",
    "            - base route: str\n",
    "        \"\"\"\n",
    "        filter_func = blueprint[\"filter_func\"]\n",
    "        filter_func = filter_func if filter_func else lambda x,y:True\n",
    "        build_func = blueprint[\"build_func\"]\n",
    "        base_route = blueprint[\"route\"]\n",
    "        api_name = clean_up_string(base_route)\n",
    "        \n",
    "        for conf_file, conf in app.all_configs.items():\n",
    "            # filter if we have to build this func\n",
    "            if filter_func(conf_file, conf):\n",
    "                title = clean_up_string(conf_file.split(\".\")[0])\n",
    "                target_route = str(Path(base_route)/title)+\"/\"\n",
    "                add_route = str(Path(base_route)/title/\"add_example\")+\"/\"\n",
    "                built_func = build_func(conf_file, conf)\n",
    "                \n",
    "                built_func.__name__ = f\"{api_name}_{title}\"\n",
    "                template_data = dict(\n",
    "                        target_route=target_route,\n",
    "                        add_route=add_route,\n",
    "                    )\n",
    "                \n",
    "                if app.show_config:\n",
    "                    with open(app.confs_dir/conf_file,\"r\") as f:\n",
    "                        template_data.update(\n",
    "                            {\"conf_data\":f.read()})\n",
    "                \n",
    "                app.create_api(\n",
    "                    target_route,\n",
    "                    f\"{api_name}_{title}\",\n",
    "                    get_template_data=template_data,\n",
    "                    conf_file = conf_file,\n",
    "                    conf=conf\n",
    "                )(built_func)\n",
    "                \n",
    "                # api for add example\n",
    "                @app.create_api(\n",
    "                    add_route,\n",
    "                    f\"{api_name}_{title}_add_example\"\n",
    "                )\n",
    "                def add_example_file(inputs):\n",
    "                    data = inputs['data']\n",
    "                    example_path = Path(f\"{api_name}_{title}\")/f\"eg_{time_str()}.json\"\n",
    "                    with open(app.examples_dir/example_path, \"w\") as f:\n",
    "                        f.write(json.dumps(data))\n",
    "                    return {\"example_path\": str(example_path)}\n",
    "                \n",
    "                logging.info(\n",
    "                    f\"run config\\t{conf_file} on route\\t{target_route}\")\n",
    "                \n",
    "                \n",
    "    def build_header(app):\n",
    "        \"\"\"\n",
    "        send header files from static\n",
    "        htype: str, like js/ css\n",
    "        \"\"\"\n",
    "        @app.route(\"/header/<htype>/<filename>\", methods=[\"GET\",])\n",
    "        def open_header(htype, filename):\n",
    "            file_path = app.static_dir/htype/filename\n",
    "            if file_path.exists():\n",
    "                return send_file(file_path)\n",
    "            else:\n",
    "                logging.error(f\"not found: {file_path}\")\n",
    "                return \"\"\n",
    "                \n",
    "    def build_flaskonf(app):\n",
    "        for blueprint in app.blueprint:\n",
    "            app.build_blueprint(blueprint)\n",
    "\n",
    "    def build_on_config(\n",
    "        app: Flask,\n",
    "        confs_dir: Path=None,\n",
    "        examples_dir: Path=None,\n",
    "        show_config: bool=True,\n",
    "    ) -> Flask:\n",
    "        app.allocate()\n",
    "        app.show_config=show_config\n",
    "        app.set_dicrectory(\n",
    "            confs_dir=confs_dir,\n",
    "            examples_dir=examples_dir)\n",
    "        # make sure directory exists\n",
    "        mkdir(app.confs_dir)\n",
    "        mkdir(app.examples_dir)\n",
    "        \n",
    "        app.build_header()\n",
    "        \n",
    "        app.blueprint = []\n",
    "        app.all_configs = dict(\n",
    "            (i, open_json(app.confs_dir/i)) for i in os.listdir(app.confs_dir))\n",
    "        \n",
    "    def get_examples(app, example_name):\n",
    "        example_dir_path = app.examples_dir/example_name\n",
    "        logging.debug(f\"loading examples from {example_dir_path}\")\n",
    "        if example_dir_path.exists():\n",
    "            files = os.listdir(example_dir_path)\n",
    "            files = list(filter(lambda x:\".json\" in x, files))\n",
    "            return json.dumps(dict(zip(files,map(lambda x:open_file(example_dir_path/x),files))))\n",
    "        else:\n",
    "            return json.dumps(dict())"
   ]
  },
  {
   "cell_type": "code",
   "execution_count": 20,
   "metadata": {},
   "outputs": [],
   "source": [
    "app = FlaskonfAPI(\"test_flaskonf\")"
   ]
  },
  {
   "cell_type": "markdown",
   "metadata": {},
   "source": [
    "Configuration directory"
   ]
  },
  {
   "cell_type": "code",
   "execution_count": 21,
   "metadata": {},
   "outputs": [
    {
     "name": "stdout",
     "output_type": "stream",
     "text": [
      "la.json       shanghai.json\r\n"
     ]
    }
   ],
   "source": [
    "!ls ../tests/confs/"
   ]
  },
  {
   "cell_type": "markdown",
   "metadata": {},
   "source": [
    "Example directory"
   ]
  },
  {
   "cell_type": "code",
   "execution_count": 22,
   "metadata": {},
   "outputs": [
    {
     "name": "stdout",
     "output_type": "stream",
     "text": [
      "eg_201229_180805.json eg_201229_182134.json print_all.json\r\n",
      "eg_201229_181208.json eg_210506_125048.json\r\n"
     ]
    }
   ],
   "source": [
    "!ls ../tests/examples/guide_shanghai"
   ]
  },
  {
   "cell_type": "code",
   "execution_count": 23,
   "metadata": {},
   "outputs": [
    {
     "name": "stdout",
     "output_type": "stream",
     "text": [
      "{\r\n",
      "    \"user\":\"admin\"\r\n",
      "}"
     ]
    }
   ],
   "source": [
    "!cat ../tests/examples/guide_shanghai/print_all.json"
   ]
  },
  {
   "cell_type": "code",
   "execution_count": 24,
   "metadata": {},
   "outputs": [],
   "source": [
    "app.build_on_config(confs_dir=\"../tests/confs/\",examples_dir=\"../tests/examples/\" )"
   ]
  },
  {
   "cell_type": "markdown",
   "metadata": {},
   "source": [
    "### No build option\n",
    "> set ```nobuild=False``` you can build APIs with configuration in batch"
   ]
  },
  {
   "cell_type": "code",
   "execution_count": 26,
   "metadata": {},
   "outputs": [],
   "source": [
    "@app.conf_route(\"/guide2/\", nobuild=True)\n",
    "def guide_api(inputs: Dict):\n",
    "    data = inputs['data']\n",
    "    user = data[\"user\"]\n",
    "    return {\"city_data2\": conf, \"user\": user}"
   ]
  },
  {
   "cell_type": "markdown",
   "metadata": {},
   "source": [
    "### With Build\n",
    "\n",
    "> If you want to load huge things to memory according to configuration, eg. load different transfromers with configuration"
   ]
  },
  {
   "cell_type": "code",
   "execution_count": 25,
   "metadata": {},
   "outputs": [],
   "source": [
    "@app.conf_route(\"/guide/\")\n",
    "def build_city_guide(conf_file: str, conf: Dict):\n",
    "    logging.info(f\"{conf}\")\n",
    "    # doing other things for building API here\n",
    "    # like load huge model into memory with configuration\n",
    "    def guide_api(inputs: Dict):\n",
    "        data = inputs['data']\n",
    "        user = data[\"user\"]\n",
    "        return {\"city_data\": conf, \"user\": user}\n",
    "    return guide_api"
   ]
  },
  {
   "cell_type": "code",
   "execution_count": 27,
   "metadata": {},
   "outputs": [
    {
     "name": "stderr",
     "output_type": "stream",
     "text": [
      "INFO:root:{'name': 'Los Angeles', 'country': 'United States', 'sites': ['universal studio', 'griffith observatory', 'union station']}\n",
      "INFO:root:run config\tla.json on route\t/guide/la/\n",
      "INFO:root:{'name': 'Shanghai', 'country': 'China', 'sites': ['french concession', 'xin tiandi', 'disney resort']}\n",
      "INFO:root:run config\tshanghai.json on route\t/guide/shanghai/\n",
      "INFO:root:run config\tla.json on route\t/guide2/la/\n",
      "INFO:root:run config\tshanghai.json on route\t/guide2/shanghai/\n"
     ]
    }
   ],
   "source": [
    "app.build_flaskonf()"
   ]
  },
  {
   "cell_type": "code",
   "execution_count": 28,
   "metadata": {},
   "outputs": [
    {
     "name": "stdout",
     "output_type": "stream",
     "text": [
      " * Serving Flask app \"test_flaskonf\" (lazy loading)\n",
      " * Environment: production\n",
      "   WARNING: This is a development server. Do not use it in a production deployment.\n",
      "   Use a production WSGI server instead.\n",
      " * Debug mode: off\n"
     ]
    },
    {
     "name": "stderr",
     "output_type": "stream",
     "text": [
      "INFO:werkzeug: * Running on http://0.0.0.0:9727/ (Press CTRL+C to quit)\n",
      "DEBUG:root:loading examples from ../tests/examples/guide_la\n",
      "INFO:werkzeug:127.0.0.1 - - [06/May/2021 12:53:20] \"\u001b[37mGET /guide/la/ HTTP/1.1\u001b[0m\" 200 -\n",
      "ERROR:root:Traceback (most recent call last):\n",
      "  File \"<ipython-input-19-24a00b29e23c>\", line 111, in wrapper\n",
      "    result = f(inputs)\n",
      "  File \"<ipython-input-25-32c7827afe5e>\", line 8, in guide_api\n",
      "    user = data[\"user\"]\n",
      "KeyError: 'user'\n",
      "\n",
      "INFO:werkzeug:127.0.0.1 - - [06/May/2021 12:54:05] \"\u001b[1m\u001b[35mPOST /guide/la/ HTTP/1.1\u001b[0m\" 500 -\n",
      "INFO:werkzeug:127.0.0.1 - - [06/May/2021 12:54:37] \"\u001b[37mPOST /guide/la/ HTTP/1.1\u001b[0m\" 200 -\n"
     ]
    }
   ],
   "source": [
    "app.run(host=\"0.0.0.0\",port=9727)"
   ]
  },
  {
   "cell_type": "code",
   "execution_count": null,
   "metadata": {},
   "outputs": [],
   "source": []
  }
 ],
 "metadata": {
  "kernelspec": {
   "display_name": "Python 3",
   "language": "python",
   "name": "python3"
  },
  "language_info": {
   "codemirror_mode": {
    "name": "ipython",
    "version": 3
   },
   "file_extension": ".py",
   "mimetype": "text/x-python",
   "name": "python",
   "nbconvert_exporter": "python",
   "pygments_lexer": "ipython3",
   "version": "3.7.4"
  },
  "toc": {
   "base_numbering": 1,
   "nav_menu": {},
   "number_sections": true,
   "sideBar": true,
   "skip_h1_title": false,
   "title_cell": "Table of Contents",
   "title_sidebar": "Contents",
   "toc_cell": false,
   "toc_position": {},
   "toc_section_display": true,
   "toc_window_display": false
  }
 },
 "nbformat": 4,
 "nbformat_minor": 4
}
