{
 "cells": [
  {
   "cell_type": "markdown",
   "metadata": {},
   "source": [
    "# Flaskonf\n",
    "> Configuration Driven API"
   ]
  },
  {
   "cell_type": "markdown",
   "metadata": {},
   "source": [
    "## Installation\n",
    "\n",
    "Under your python environment\n",
    "\n",
    "```shell\n",
    "pip install flaskonf\n",
    "```"
   ]
  },
  {
   "cell_type": "markdown",
   "metadata": {},
   "source": [
    "## Create API with configuration json files"
   ]
  },
  {
   "cell_type": "markdown",
   "metadata": {},
   "source": [
    "Suppose you have configuration files like following"
   ]
  },
  {
   "cell_type": "code",
   "execution_count": 6,
   "metadata": {},
   "outputs": [
    {
     "name": "stdout",
     "output_type": "stream",
     "text": [
      "la.json       shanghai.json\r\n"
     ]
    }
   ],
   "source": [
    "!ls ../tests/confs/"
   ]
  },
  {
   "cell_type": "code",
   "execution_count": 7,
   "metadata": {},
   "outputs": [
    {
     "name": "stdout",
     "output_type": "stream",
     "text": [
      "{\r\n",
      "    \"name\":\"Los Angeles\",\r\n",
      "    \"country\":\"United States\",\r\n",
      "    \"sites\":[\"universal studio\", \"griffith observatory\", \"union station\"]\r\n",
      "}\r\n",
      "{\r\n",
      "    \"name\":\"Shanghai\",\r\n",
      "    \"country\":\"China\",\r\n",
      "    \"sites\":[\"french concession\", \"xin tiandi\", \"disney resort\"]\r\n",
      "}\r\n"
     ]
    }
   ],
   "source": [
    "!cat ../tests/confs/*.json"
   ]
  },
  {
   "cell_type": "code",
   "execution_count": 22,
   "metadata": {},
   "outputs": [],
   "source": [
    "from flaskonf.api import FlaskonfAPI\n",
    "from typing import Dict"
   ]
  },
  {
   "cell_type": "code",
   "execution_count": 27,
   "metadata": {},
   "outputs": [],
   "source": [
    "app = FlaskonfAPI(\"AnConfAPI\")"
   ]
  },
  {
   "cell_type": "markdown",
   "metadata": {},
   "source": [
    "Bind the app to the configuration directory\n",
    "\n",
    "Example directory is for test inputs example, you can just leave it empety for now"
   ]
  },
  {
   "cell_type": "code",
   "execution_count": 28,
   "metadata": {},
   "outputs": [],
   "source": [
    "app.build_on_config(\n",
    "    confs_dir=\"../tests/confs/\",\n",
    "    examples_dir=\"../tests/examples/\" )"
   ]
  },
  {
   "cell_type": "markdown",
   "metadata": {},
   "source": [
    "### Create API blueprint\n",
    "\n",
    "The syntax looks like creating API, but this is a blueprint based on what we will create an **API for each json file**"
   ]
  },
  {
   "cell_type": "code",
   "execution_count": 29,
   "metadata": {},
   "outputs": [],
   "source": [
    "@app.conf_route(\"/guide/\", nobuild=True)\n",
    "def guide_api(inputs: Dict):\n",
    "    data = inputs['data']\n",
    "    conf = data[\"conf\"]\n",
    "    user = data[\"user\"]\n",
    "    return {\"city_data\": conf, \"user\": user}\n",
    "\n",
    "app.build_flaskonf()"
   ]
  },
  {
   "cell_type": "markdown",
   "metadata": {},
   "source": [
    "Notice, the configuration data is accessible in the decorated function"
   ]
  },
  {
   "cell_type": "markdown",
   "metadata": {},
   "source": [
    "The rest is flask usual you are familiared with, if you run like following, you can visit ```localhost:6060/guide/la/``` or ```localhost:6060/guide/shanghai/``` to test your API"
   ]
  },
  {
   "cell_type": "code",
   "execution_count": 31,
   "metadata": {},
   "outputs": [
    {
     "name": "stdout",
     "output_type": "stream",
     "text": [
      " * Serving Flask app \"AnConfAPI\" (lazy loading)\n",
      " * Environment: production\n",
      "   WARNING: This is a development server. Do not use it in a production deployment.\n",
      "   Use a production WSGI server instead.\n",
      " * Debug mode: off\n"
     ]
    },
    {
     "name": "stderr",
     "output_type": "stream",
     "text": [
      " * Running on http://0.0.0.0:6060/ (Press CTRL+C to quit)\n",
      "INFO:werkzeug: * Running on http://0.0.0.0:6060/ (Press CTRL+C to quit)\n"
     ]
    }
   ],
   "source": [
    "app.run(\"0.0.0.0\", port = 6060)"
   ]
  },
  {
   "cell_type": "markdown",
   "metadata": {},
   "source": [
    "## When loading API components takes effort\n",
    "> eg. when you have to load huge AI model into memory when starting the server"
   ]
  },
  {
   "cell_type": "markdown",
   "metadata": {},
   "source": [
    "Set ```nobuild=True```"
   ]
  },
  {
   "cell_type": "code",
   "execution_count": null,
   "metadata": {},
   "outputs": [],
   "source": [
    "@app.conf_route(\"/guide2/\", nobuild=False)\n",
    "def build_city_guide(conf_file: str, conf: Dict):\n",
    "    logging.info(f\"{conf}\")\n",
    "    # doing other things for building API here\n",
    "    # like load huge model into memory with configuration\n",
    "    def guide_api(inputs: Dict):\n",
    "        data = inputs['data']\n",
    "        user = data[\"user\"]\n",
    "        return {\"city_data\": conf, \"user\": user}\n",
    "    return guide_api"
   ]
  }
 ],
 "metadata": {
  "kernelspec": {
   "display_name": "Python 3",
   "language": "python",
   "name": "python3"
  },
  "language_info": {
   "codemirror_mode": {
    "name": "ipython",
    "version": 3
   },
   "file_extension": ".py",
   "mimetype": "text/x-python",
   "name": "python",
   "nbconvert_exporter": "python",
   "pygments_lexer": "ipython3",
   "version": "3.7.4"
  },
  "toc": {
   "base_numbering": 1,
   "nav_menu": {},
   "number_sections": true,
   "sideBar": true,
   "skip_h1_title": false,
   "title_cell": "Table of Contents",
   "title_sidebar": "Contents",
   "toc_cell": false,
   "toc_position": {},
   "toc_section_display": true,
   "toc_window_display": false
  }
 },
 "nbformat": 4,
 "nbformat_minor": 4
}
