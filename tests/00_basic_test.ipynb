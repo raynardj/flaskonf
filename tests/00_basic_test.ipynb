{
 "cells": [
  {
   "cell_type": "markdown",
   "metadata": {},
   "source": [
    "# Example of Flaskonf 1\n",
    "> A config drive API"
   ]
  },
  {
   "cell_type": "code",
   "execution_count": 5,
   "metadata": {},
   "outputs": [],
   "source": [
    "from flaskonf.api import FlaskonfAPI\n",
    "from typing import Dict\n",
    "import logging"
   ]
  },
  {
   "cell_type": "markdown",
   "metadata": {},
   "source": [
    "## Create Flaskonf instance\n",
    "### Based on a directory of configurations"
   ]
  },
  {
   "cell_type": "code",
   "execution_count": 2,
   "metadata": {},
   "outputs": [],
   "source": [
    "app = FlaskonfAPI(\"test_1\")\n",
    "app.build_on_config(confs_dir=\"./confs/\",examples_dir=\"./examples/\" )"
   ]
  },
  {
   "cell_type": "code",
   "execution_count": 9,
   "metadata": {},
   "outputs": [
    {
     "name": "stdout",
     "output_type": "stream",
     "text": [
      "la.json       shanghai.json\r\n"
     ]
    }
   ],
   "source": [
    "!ls ./confs/"
   ]
  },
  {
   "cell_type": "markdown",
   "metadata": {},
   "source": [
    "## Define API function"
   ]
  },
  {
   "cell_type": "code",
   "execution_count": 3,
   "metadata": {},
   "outputs": [],
   "source": [
    "@app.conf_route(\"/guide/\")\n",
    "def build_city_guide(conf_file: str, conf: Dict):\n",
    "    logging.info(f\"{conf}\")\n",
    "    def guide_api(data: Dict):\n",
    "        user = data[\"user\"]\n",
    "        return {\"city_config\":conf, \"user\":user}\n",
    "    return guide_api"
   ]
  },
  {
   "cell_type": "markdown",
   "metadata": {},
   "source": [
    "## Run API"
   ]
  },
  {
   "cell_type": "code",
   "execution_count": 6,
   "metadata": {},
   "outputs": [],
   "source": [
    "app.build_flaskonf()"
   ]
  },
  {
   "cell_type": "code",
   "execution_count": 7,
   "metadata": {},
   "outputs": [
    {
     "name": "stdout",
     "output_type": "stream",
     "text": [
      " * Serving Flask app \"test_1\" (lazy loading)\n",
      " * Environment: production\n",
      "   WARNING: This is a development server. Do not use it in a production deployment.\n",
      "   Use a production WSGI server instead.\n",
      " * Debug mode: off\n"
     ]
    },
    {
     "name": "stderr",
     "output_type": "stream",
     "text": [
      "INFO:werkzeug: * Running on http://0.0.0.0:9828/ (Press CTRL+C to quit)\n",
      "INFO:werkzeug:127.0.0.1 - - [29/Dec/2020 18:28:40] \"\u001b[37mGET /guide/shanghai/ HTTP/1.1\u001b[0m\" 200 -\n",
      "INFO:werkzeug:127.0.0.1 - - [29/Dec/2020 18:28:40] \"\u001b[37mGET /header/css/bootstrap.css HTTP/1.1\u001b[0m\" 200 -\n",
      "INFO:werkzeug:127.0.0.1 - - [29/Dec/2020 18:28:40] \"\u001b[37mGET /header/js/jquery.min.js HTTP/1.1\u001b[0m\" 200 -\n",
      "INFO:werkzeug:127.0.0.1 - - [29/Dec/2020 18:28:40] \"\u001b[37mGET /header/js/bootstrap.min.js HTTP/1.1\u001b[0m\" 200 -\n",
      "INFO:werkzeug:127.0.0.1 - - [29/Dec/2020 18:28:40] \"\u001b[37mGET /header/js/bootstrap.min.js.map HTTP/1.1\u001b[0m\" 200 -\n",
      "ERROR:root:not found: /Users/xiaochen.zhang/github/flaskonf/flaskonf/static/css/bootstrap.css.map\n",
      "INFO:werkzeug:127.0.0.1 - - [29/Dec/2020 18:28:40] \"\u001b[37mGET /header/css/bootstrap.css.map HTTP/1.1\u001b[0m\" 200 -\n",
      "INFO:werkzeug:127.0.0.1 - - [29/Dec/2020 18:28:40] \"\u001b[33mGET /favicon.ico HTTP/1.1\u001b[0m\" 404 -\n"
     ]
    }
   ],
   "source": [
    "app.run(host=\"0.0.0.0\",port=9828)"
   ]
  },
  {
   "cell_type": "code",
   "execution_count": null,
   "metadata": {},
   "outputs": [],
   "source": []
  }
 ],
 "metadata": {
  "kernelspec": {
   "display_name": "Python 3",
   "language": "python",
   "name": "python3"
  },
  "language_info": {
   "codemirror_mode": {
    "name": "ipython",
    "version": 3
   },
   "file_extension": ".py",
   "mimetype": "text/x-python",
   "name": "python",
   "nbconvert_exporter": "python",
   "pygments_lexer": "ipython3",
   "version": "3.7.4"
  },
  "toc": {
   "base_numbering": 1,
   "nav_menu": {},
   "number_sections": true,
   "sideBar": true,
   "skip_h1_title": false,
   "title_cell": "Table of Contents",
   "title_sidebar": "Contents",
   "toc_cell": false,
   "toc_position": {},
   "toc_section_display": true,
   "toc_window_display": false
  }
 },
 "nbformat": 4,
 "nbformat_minor": 4
}
